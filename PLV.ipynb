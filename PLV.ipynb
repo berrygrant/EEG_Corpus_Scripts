{
 "cells": [
  {
   "cell_type": "markdown",
   "id": "c83cebc9-c835-4950-a1be-b8dedddc345d",
   "metadata": {},
   "source": [
    "# PLV Analysis"
   ]
  },
  {
   "cell_type": "markdown",
   "id": "7ee3760f-b6db-4a9a-9bf4-86a0b0a68469",
   "metadata": {},
   "source": [
    "## Basic Setup\n",
    "* Load modules from EEG_Corpus_Scripts (make sure to run git pull before this so you are working on the most updated files)\n",
    "* Set working directory"
   ]
  },
  {
   "cell_type": "code",
   "execution_count": 1,
   "id": "d4d15f95-0f50-4085-887f-17774a0f1ca9",
   "metadata": {},
   "outputs": [],
   "source": [
    "import os \n",
    "os.chdir('/home/mernestus/ERC_2024/PLV_PILOT/EEG_Corpus_Scripts/')"
   ]
  },
  {
   "cell_type": "code",
   "execution_count": 8,
   "id": "946ae193-05c7-491b-ad42-5558a1a6b6da",
   "metadata": {},
   "outputs": [],
   "source": [
    "import pandas as pd"
   ]
  },
  {
   "cell_type": "code",
   "execution_count": 16,
   "id": "2fded2a6-25e3-413d-a975-cda8fed243de",
   "metadata": {},
   "outputs": [],
   "source": [
    "import locations\n",
    "import read_xml\n",
    "import load_eeg\n",
    "import load_subset\n",
    "import tfa_plv\n",
    "import phrase_search"
   ]
  },
  {
   "cell_type": "markdown",
   "id": "92193061-c6b0-4ba9-9e07-074593fb2c57",
   "metadata": {},
   "source": [
    "## Test Utterances\n",
    "* Load test utterances\n",
    "* Load syllable-level data for test utterances"
   ]
  },
  {
   "cell_type": "code",
   "execution_count": 3,
   "id": "5be493f1-d309-472c-9e04-a3548a96f08e",
   "metadata": {},
   "outputs": [],
   "source": [
    "utts=[\"Jordi had niet verwacht dat Melissas ouders het goed zouden vinden dat ie meeging\",\n",
    "      \"En dat Jordi van plan was de archeologen daar te vragen of ze mochten helpen bij de opgravingen\",\n",
    "     \"Hoewel het voor hem niet gemakkelijk was deze dag te beleven zonder mama\",\n",
    "     \"Soms wilde Lisa dat zijzelf ook zo gemakkelijk kon praten als Julia\",\n",
    "     \"Maar na een bevolkingsonderzoek voor vrouwen was er borstkanker bij haar geconstateerd\",\n",
    "     \"Maar door al dat gestress ga je straks over de kop\"]"
   ]
  },
  {
   "cell_type": "code",
   "execution_count": 10,
   "id": "4e6f3dd5-9d9e-4b69-b6c3-a64f72654035",
   "metadata": {},
   "outputs": [],
   "source": [
    "syll_data = pd.read_table('utt_syll_st_et.txt')"
   ]
  },
  {
   "cell_type": "markdown",
   "id": "530f1e29-e34d-452e-9960-0380d7108b30",
   "metadata": {},
   "source": [
    "# Word-level Analysis"
   ]
  },
  {
   "cell_type": "markdown",
   "id": "22c51dc1-269d-44f9-a8a7-d9b0be10d086",
   "metadata": {},
   "source": [
    "## Load sample data\n",
    "* Load first 10 participants (can adjust using n)\n",
    "* eeg_data is saved but not used by these scripts (recommend deleting)\n",
    "\n",
    "Note: The files are formatted the same as they are in the CGN corpus"
   ]
  },
  {
   "cell_type": "code",
   "execution_count": null,
   "id": "66d451f4-33e2-4542-8835-0d3d94a465ca",
   "metadata": {},
   "outputs": [],
   "source": [
    "participants, eeg_data = load_subset.get_data_sample(n=10)"
   ]
  },
  {
   "cell_type": "markdown",
   "id": "d8475c35-0982-4d48-8fb1-4b04bc482b0e",
   "metadata": {},
   "source": [
    "## Filter data to get phrases"
   ]
  },
  {
   "cell_type": "markdown",
   "id": "1eee2e53-5f10-4b63-8fa8-837000965853",
   "metadata": {},
   "source": [
    "_Note that the audio files in the folder don't match the once that I have locally. The folder has individual files while the metadata for participants (which matches my data) have multiple files and have been converted to 60dB (e.g., fn001124_fn001125_60db.wav). We should check with __Martijn__ to find the Ponyland location for these files._"
   ]
  },
  {
   "cell_type": "code",
   "execution_count": 31,
   "id": "3f76a8ec-a8d6-48b1-8ecb-3689dc25b1df",
   "metadata": {},
   "outputs": [
    {
     "data": {
      "text/plain": [
       "'/vol/bigdata/corpora2/CGN2/data/audio/wav/comp-o/nl/'"
      ]
     },
     "execution_count": 31,
     "metadata": {},
     "output_type": "execute_result"
    }
   ],
   "source": [
    "importlib.reload(locations)\n",
    "locations.cgn_audio"
   ]
  },
  {
   "cell_type": "markdown",
   "id": "6f7aaffc-9431-42c0-ba24-dcb7838b79a2",
   "metadata": {},
   "source": [
    "The function below will generate a dictionary object with the phrase as a key and the following values:\n",
    "* __phrase_eeg__: The raw eeg data corresponding to the phrase\n",
    "* __sound_sample__: The audio data corresponding to the phrase\n",
    "* __bad_electrodes__: Any electrodes that were listed as bad when loading the participant data\n",
    "* __\\[wav,block,participant\\]__: An array that has metadata: the wav filename, the block name, and the participant id\n",
    "* __\\[phrase_st,phrase_et]__: An array that indicates the start and end time of the phrase in the audio\n",
    "* __\\[eeg_s,eeg_e]__: An array that indicates the start and end of the phrase in the EEG slice "
   ]
  },
  {
   "cell_type": "code",
   "execution_count": null,
   "id": "7218744c-e5f9-4753-a1b3-647c2896098f",
   "metadata": {},
   "outputs": [],
   "source": [
    "phrase_data = phrase_search.find_all_phrases(utts,participants)"
   ]
  },
  {
   "cell_type": "markdown",
   "id": "2b1ff5bd-30d8-4b7c-8e5e-4d4200974b92",
   "metadata": {},
   "source": [
    "## Collect PLV data"
   ]
  },
  {
   "cell_type": "markdown",
   "id": "a97615ea-9185-4005-a106-9c57e5041048",
   "metadata": {},
   "source": [
    "This function takes as input the phrase_data exported from the word-level analysis above. It then matches the phrase data with audio data, resamples to 1kHz, computes PLV between the audio and each good electrode,and returns the average value across those electrodes. Results are a dictionary with the phrase as a key and the following values as an array:\n",
    "* The average PLV value across all channels\n",
    "* The value of each channel's PLV"
   ]
  },
  {
   "cell_type": "code",
   "execution_count": null,
   "id": "f29e171a-4535-4875-96b4-b02afe2f5b62",
   "metadata": {},
   "outputs": [],
   "source": [
    "theta_band_data = tfa_plv.plv_audio_eeg_phrases(phrase_data,band=['Theta',4,8])"
   ]
  },
  {
   "cell_type": "markdown",
   "id": "8e47afcf-a262-4512-b359-8d38c9741b8d",
   "metadata": {},
   "source": [
    "Then, we can plot the PLV data."
   ]
  },
  {
   "cell_type": "code",
   "execution_count": null,
   "id": "25d1d07b-5c79-4e1c-99bc-fe600f8a232f",
   "metadata": {},
   "outputs": [],
   "source": [
    "tfa_plv.plot_plvs_for_utts(theta_band_data)"
   ]
  },
  {
   "cell_type": "markdown",
   "id": "53f8b383-bf65-42de-9136-2366cee0402e",
   "metadata": {},
   "source": [
    "# Syllable-level Analysis"
   ]
  },
  {
   "cell_type": "code",
   "execution_count": null,
   "id": "cb4b789a-ab8e-4fd8-8bed-569f278db313",
   "metadata": {},
   "outputs": [],
   "source": [
    "syll_phrase_data = phrase_search.find_all_phrases_syll(utts,participants,'sample_data/utt_syll_st_et.txt')"
   ]
  }
 ],
 "metadata": {
  "kernelspec": {
   "display_name": "Python 3 (ipykernel)",
   "language": "python",
   "name": "python3"
  },
  "language_info": {
   "codemirror_mode": {
    "name": "ipython",
    "version": 3
   },
   "file_extension": ".py",
   "mimetype": "text/x-python",
   "name": "python",
   "nbconvert_exporter": "python",
   "pygments_lexer": "ipython3",
   "version": "3.10.12"
  }
 },
 "nbformat": 4,
 "nbformat_minor": 5
}
