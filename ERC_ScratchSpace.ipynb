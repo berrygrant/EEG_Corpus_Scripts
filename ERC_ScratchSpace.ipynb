{
 "cells": [
  {
   "cell_type": "code",
   "execution_count": null,
   "id": "1f803210-59f2-4490-97e4-4948c1acfba3",
   "metadata": {},
   "outputs": [],
   "source": [
    "import os \n",
    "os.chdir('/home/mernestus/ERC_2024/PLV_PILOT/EEG_Corpus_Scripts/')"
   ]
  },
  {
   "cell_type": "code",
   "execution_count": null,
   "id": "096eed4f-b8b4-4a2e-af4a-dea80be3ecd8",
   "metadata": {},
   "outputs": [],
   "source": [
    "import locations\n",
    "import read_xml\n",
    "import load_eeg\n",
    "import load_subset\n",
    "import tfa_plv\n",
    "import phrase_search"
   ]
  },
  {
   "cell_type": "code",
   "execution_count": null,
   "id": "5961078f-8c11-4535-be12-51108857aef3",
   "metadata": {},
   "outputs": [],
   "source": [
    "utts=[\"Jordi had niet verwacht dat Melissas ouders het goed zouden vinden dat ie meeging\",\n",
    "      \"En dat Jordi van plan was de archeologen daar te vragen of ze mochten helpen bij de opgravingen\",\n",
    "     \"Hoewel het voor hem niet gemakkelijk was deze dag te beleven zonder mama\",\n",
    "     \"Soms wilde Lisa dat zijzelf ook zo gemakkelijk kon praten als Julia\",\n",
    "     \"Maar na een bevolkingsonderzoek voor vrouwen was er borstkanker bij haar geconstateerd\",\n",
    "     \"Maar door al dat gestress ga je straks over de kop\"]"
   ]
  },
  {
   "cell_type": "code",
   "execution_count": null,
   "id": "dd6fdbc9-2a7b-4809-8d02-7e3806e35997",
   "metadata": {},
   "outputs": [],
   "source": [
    "syll_data = pd.read_table('sample_data/utt_syll_st_et.txt')"
   ]
  },
  {
   "cell_type": "code",
   "execution_count": null,
   "id": "04efc8cd-1dad-4d13-8343-3c896bcf609c",
   "metadata": {},
   "outputs": [],
   "source": [
    "phrase_data = phrase_search.get_phrases_only(10,utts)"
   ]
  },
  {
   "cell_type": "code",
   "execution_count": null,
   "id": "267f913b-d73b-4483-8180-453b9c53fa0a",
   "metadata": {},
   "outputs": [],
   "source": [
    "participants, eeg_data = load_subset.get_data_sample(n=2)"
   ]
  },
  {
   "cell_type": "code",
   "execution_count": null,
   "id": "25655074-7624-44f8-901d-a3e9627106b1",
   "metadata": {},
   "outputs": [],
   "source": [
    "syll_phrase_data = phrase_search.find_all_phrases_syll(utts,participants,'sample_data/utt_syll_st_et.txt')"
   ]
  }
 ],
 "metadata": {
  "kernelspec": {
   "display_name": "Python 3 (ipykernel)",
   "language": "python",
   "name": "python3"
  },
  "language_info": {
   "codemirror_mode": {
    "name": "ipython",
    "version": 3
   },
   "file_extension": ".py",
   "mimetype": "text/x-python",
   "name": "python",
   "nbconvert_exporter": "python",
   "pygments_lexer": "ipython3",
   "version": "3.10.14"
  }
 },
 "nbformat": 4,
 "nbformat_minor": 5
}
